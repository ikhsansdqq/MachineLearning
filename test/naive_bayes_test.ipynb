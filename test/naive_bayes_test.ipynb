{
 "cells": [
  {
   "cell_type": "code",
   "execution_count": 204,
   "outputs": [],
   "source": [
    "import pandas as pd\n",
    "# import numpy as np"
   ],
   "metadata": {
    "collapsed": false,
    "ExecuteTime": {
     "end_time": "2023-06-02T14:04:16.608505600Z",
     "start_time": "2023-06-02T14:04:16.596986300Z"
    }
   }
  },
  {
   "cell_type": "code",
   "execution_count": 205,
   "outputs": [],
   "source": [
    "def read_csv(path):\n",
    "    data = pd.read_csv(path, delimiter=';', na_values='?')\n",
    "    return pd.DataFrame(data)"
   ],
   "metadata": {
    "collapsed": false,
    "ExecuteTime": {
     "end_time": "2023-06-02T14:04:17.503191200Z",
     "start_time": "2023-06-02T14:04:17.495793200Z"
    }
   }
  },
  {
   "cell_type": "code",
   "execution_count": 206,
   "outputs": [
    {
     "data": {
      "text/plain": "     age  sex  height  weight  qrs_duration  t_interval  p_interval  qrs  \\\n0     75    0     190      80            91         174         121  -16   \n1     56    1     165      64            81         149          39   25   \n2     54    0     172      95           138         185         102   96   \n3     55    0     175      94           100         179         143   28   \n4     75    0     190      80            88         177         103  -16   \n..   ...  ...     ...     ...           ...         ...         ...  ...   \n447   53    1     160      70            80         154         117  -37   \n448   37    0     190      85           100         201          73   86   \n449   36    0     166      68           108         194         116  -85   \n450   32    1     155      55            93         218          63   54   \n451   78    1     160      70            79         138          78   28   \n\n        T     P  ...   KY    KZ    LA   LB  LC   LD   LE    LF    LG  \\\n0    13.0  64.0  ...  0.0   9.0  -0.9  0.0   0  0.9  2.9  23.3  49.4   \n1    37.0 -17.0  ...  0.0   8.5   0.0  0.0   0  0.2  2.1  20.4  38.8   \n2    34.0  70.0  ...  0.0   9.5  -2.4  0.0   0  0.3  3.4  12.3  49.0   \n3    11.0  -5.0  ...  0.0  12.2  -2.2  0.0   0  0.4  2.6  34.6  61.6   \n4    13.0  61.0  ...  0.0  13.1  -3.6  0.0   0 -0.1  3.9  25.4  62.8   \n..    ...   ...  ...  ...   ...   ...  ...  ..  ...  ...   ...   ...   \n447   4.0  40.0  ...  0.0   4.3  -5.0  0.0   0  0.7  0.6  -4.4  -0.5   \n448  66.0  52.0  ...  0.0  15.6  -1.6  0.0   0  0.4  2.4  38.0  62.4   \n449 -19.0 -61.0  ...  0.0  16.3 -28.6  0.0   0  1.5  1.0 -44.2 -33.2   \n450  29.0 -22.0  ... -0.4  12.0  -0.7  0.0   0  0.5  2.4  25.0  46.6   \n451  79.0  52.0  ...  0.0  10.4  -1.8  0.0   0  0.5  1.6  21.3  32.8   \n\n     diagnosis  \n0            8  \n1            6  \n2           10  \n3            1  \n4            7  \n..         ...  \n447          1  \n448         10  \n449          2  \n450          1  \n451          1  \n\n[452 rows x 277 columns]",
      "text/html": "<div>\n<style scoped>\n    .dataframe tbody tr th:only-of-type {\n        vertical-align: middle;\n    }\n\n    .dataframe tbody tr th {\n        vertical-align: top;\n    }\n\n    .dataframe thead th {\n        text-align: right;\n    }\n</style>\n<table border=\"1\" class=\"dataframe\">\n  <thead>\n    <tr style=\"text-align: right;\">\n      <th></th>\n      <th>age</th>\n      <th>sex</th>\n      <th>height</th>\n      <th>weight</th>\n      <th>qrs_duration</th>\n      <th>t_interval</th>\n      <th>p_interval</th>\n      <th>qrs</th>\n      <th>T</th>\n      <th>P</th>\n      <th>...</th>\n      <th>KY</th>\n      <th>KZ</th>\n      <th>LA</th>\n      <th>LB</th>\n      <th>LC</th>\n      <th>LD</th>\n      <th>LE</th>\n      <th>LF</th>\n      <th>LG</th>\n      <th>diagnosis</th>\n    </tr>\n  </thead>\n  <tbody>\n    <tr>\n      <th>0</th>\n      <td>75</td>\n      <td>0</td>\n      <td>190</td>\n      <td>80</td>\n      <td>91</td>\n      <td>174</td>\n      <td>121</td>\n      <td>-16</td>\n      <td>13.0</td>\n      <td>64.0</td>\n      <td>...</td>\n      <td>0.0</td>\n      <td>9.0</td>\n      <td>-0.9</td>\n      <td>0.0</td>\n      <td>0</td>\n      <td>0.9</td>\n      <td>2.9</td>\n      <td>23.3</td>\n      <td>49.4</td>\n      <td>8</td>\n    </tr>\n    <tr>\n      <th>1</th>\n      <td>56</td>\n      <td>1</td>\n      <td>165</td>\n      <td>64</td>\n      <td>81</td>\n      <td>149</td>\n      <td>39</td>\n      <td>25</td>\n      <td>37.0</td>\n      <td>-17.0</td>\n      <td>...</td>\n      <td>0.0</td>\n      <td>8.5</td>\n      <td>0.0</td>\n      <td>0.0</td>\n      <td>0</td>\n      <td>0.2</td>\n      <td>2.1</td>\n      <td>20.4</td>\n      <td>38.8</td>\n      <td>6</td>\n    </tr>\n    <tr>\n      <th>2</th>\n      <td>54</td>\n      <td>0</td>\n      <td>172</td>\n      <td>95</td>\n      <td>138</td>\n      <td>185</td>\n      <td>102</td>\n      <td>96</td>\n      <td>34.0</td>\n      <td>70.0</td>\n      <td>...</td>\n      <td>0.0</td>\n      <td>9.5</td>\n      <td>-2.4</td>\n      <td>0.0</td>\n      <td>0</td>\n      <td>0.3</td>\n      <td>3.4</td>\n      <td>12.3</td>\n      <td>49.0</td>\n      <td>10</td>\n    </tr>\n    <tr>\n      <th>3</th>\n      <td>55</td>\n      <td>0</td>\n      <td>175</td>\n      <td>94</td>\n      <td>100</td>\n      <td>179</td>\n      <td>143</td>\n      <td>28</td>\n      <td>11.0</td>\n      <td>-5.0</td>\n      <td>...</td>\n      <td>0.0</td>\n      <td>12.2</td>\n      <td>-2.2</td>\n      <td>0.0</td>\n      <td>0</td>\n      <td>0.4</td>\n      <td>2.6</td>\n      <td>34.6</td>\n      <td>61.6</td>\n      <td>1</td>\n    </tr>\n    <tr>\n      <th>4</th>\n      <td>75</td>\n      <td>0</td>\n      <td>190</td>\n      <td>80</td>\n      <td>88</td>\n      <td>177</td>\n      <td>103</td>\n      <td>-16</td>\n      <td>13.0</td>\n      <td>61.0</td>\n      <td>...</td>\n      <td>0.0</td>\n      <td>13.1</td>\n      <td>-3.6</td>\n      <td>0.0</td>\n      <td>0</td>\n      <td>-0.1</td>\n      <td>3.9</td>\n      <td>25.4</td>\n      <td>62.8</td>\n      <td>7</td>\n    </tr>\n    <tr>\n      <th>...</th>\n      <td>...</td>\n      <td>...</td>\n      <td>...</td>\n      <td>...</td>\n      <td>...</td>\n      <td>...</td>\n      <td>...</td>\n      <td>...</td>\n      <td>...</td>\n      <td>...</td>\n      <td>...</td>\n      <td>...</td>\n      <td>...</td>\n      <td>...</td>\n      <td>...</td>\n      <td>...</td>\n      <td>...</td>\n      <td>...</td>\n      <td>...</td>\n      <td>...</td>\n      <td>...</td>\n    </tr>\n    <tr>\n      <th>447</th>\n      <td>53</td>\n      <td>1</td>\n      <td>160</td>\n      <td>70</td>\n      <td>80</td>\n      <td>154</td>\n      <td>117</td>\n      <td>-37</td>\n      <td>4.0</td>\n      <td>40.0</td>\n      <td>...</td>\n      <td>0.0</td>\n      <td>4.3</td>\n      <td>-5.0</td>\n      <td>0.0</td>\n      <td>0</td>\n      <td>0.7</td>\n      <td>0.6</td>\n      <td>-4.4</td>\n      <td>-0.5</td>\n      <td>1</td>\n    </tr>\n    <tr>\n      <th>448</th>\n      <td>37</td>\n      <td>0</td>\n      <td>190</td>\n      <td>85</td>\n      <td>100</td>\n      <td>201</td>\n      <td>73</td>\n      <td>86</td>\n      <td>66.0</td>\n      <td>52.0</td>\n      <td>...</td>\n      <td>0.0</td>\n      <td>15.6</td>\n      <td>-1.6</td>\n      <td>0.0</td>\n      <td>0</td>\n      <td>0.4</td>\n      <td>2.4</td>\n      <td>38.0</td>\n      <td>62.4</td>\n      <td>10</td>\n    </tr>\n    <tr>\n      <th>449</th>\n      <td>36</td>\n      <td>0</td>\n      <td>166</td>\n      <td>68</td>\n      <td>108</td>\n      <td>194</td>\n      <td>116</td>\n      <td>-85</td>\n      <td>-19.0</td>\n      <td>-61.0</td>\n      <td>...</td>\n      <td>0.0</td>\n      <td>16.3</td>\n      <td>-28.6</td>\n      <td>0.0</td>\n      <td>0</td>\n      <td>1.5</td>\n      <td>1.0</td>\n      <td>-44.2</td>\n      <td>-33.2</td>\n      <td>2</td>\n    </tr>\n    <tr>\n      <th>450</th>\n      <td>32</td>\n      <td>1</td>\n      <td>155</td>\n      <td>55</td>\n      <td>93</td>\n      <td>218</td>\n      <td>63</td>\n      <td>54</td>\n      <td>29.0</td>\n      <td>-22.0</td>\n      <td>...</td>\n      <td>-0.4</td>\n      <td>12.0</td>\n      <td>-0.7</td>\n      <td>0.0</td>\n      <td>0</td>\n      <td>0.5</td>\n      <td>2.4</td>\n      <td>25.0</td>\n      <td>46.6</td>\n      <td>1</td>\n    </tr>\n    <tr>\n      <th>451</th>\n      <td>78</td>\n      <td>1</td>\n      <td>160</td>\n      <td>70</td>\n      <td>79</td>\n      <td>138</td>\n      <td>78</td>\n      <td>28</td>\n      <td>79.0</td>\n      <td>52.0</td>\n      <td>...</td>\n      <td>0.0</td>\n      <td>10.4</td>\n      <td>-1.8</td>\n      <td>0.0</td>\n      <td>0</td>\n      <td>0.5</td>\n      <td>1.6</td>\n      <td>21.3</td>\n      <td>32.8</td>\n      <td>1</td>\n    </tr>\n  </tbody>\n</table>\n<p>452 rows × 277 columns</p>\n</div>"
     },
     "execution_count": 206,
     "metadata": {},
     "output_type": "execute_result"
    }
   ],
   "source": [
    "data_train = read_csv('../docs/data_arrhythmia.csv')\n",
    "data_train = data_train.drop([\"J\", \"p-r_interval\", \"q-t_interval\"], axis=1)\n",
    "data_train"
   ],
   "metadata": {
    "collapsed": false,
    "ExecuteTime": {
     "end_time": "2023-06-02T14:04:18.566840600Z",
     "start_time": "2023-06-02T14:04:18.528771600Z"
    }
   }
  },
  {
   "cell_type": "markdown",
   "source": [
    "### Normalization\n",
    "<img src=\"https://drive.google.com/uc?export=view&id=1GYrk1-5V-zhQjU3qYT_DWoFwzfBi6wqM\" style=\"width: 650px; max-width: 100%; height: auto\" title=\"Click to enlarge picture\" />"
   ],
   "metadata": {
    "collapsed": false
   }
  },
  {
   "cell_type": "code",
   "execution_count": 207,
   "outputs": [],
   "source": [
    "def normalization_min_max(all_data, column_target):\n",
    "    for column in column_target:\n",
    "        all_data[column] = (all_data[column] - all_data[column].min()) / (\n",
    "                all_data[column].max() - all_data[column].min())\n",
    "    return all_data"
   ],
   "metadata": {
    "collapsed": false,
    "ExecuteTime": {
     "end_time": "2023-06-02T14:04:20.222845500Z",
     "start_time": "2023-06-02T14:04:20.214794Z"
    }
   }
  },
  {
   "cell_type": "code",
   "execution_count": 208,
   "outputs": [],
   "source": [
    "test_start_id = data_train.index.stop\n",
    "all_data = normalization_min_max(data_train, ['age', 'sex', 'qrs_duration', 'qrs', 'QRST', 'heart_rate'])\n",
    "norm_train, norm_test = all_data.iloc[:test_start_id], all_data.iloc[test_start_id:]"
   ],
   "metadata": {
    "collapsed": false,
    "ExecuteTime": {
     "end_time": "2023-06-02T14:04:21.418519100Z",
     "start_time": "2023-06-02T14:04:21.410920Z"
    }
   }
  },
  {
   "cell_type": "code",
   "execution_count": 209,
   "outputs": [
    {
     "data": {
      "text/plain": "          age  sex  height  weight  qrs_duration  t_interval  p_interval  \\\n0    0.903614  0.0     190      80      0.270677         174         121   \n1    0.674699  1.0     165      64      0.195489         149          39   \n2    0.650602  0.0     172      95      0.624060         185         102   \n3    0.662651  0.0     175      94      0.338346         179         143   \n4    0.903614  0.0     190      80      0.248120         177         103   \n..        ...  ...     ...     ...           ...         ...         ...   \n447  0.638554  1.0     160      70      0.187970         154         117   \n448  0.445783  0.0     190      85      0.338346         201          73   \n449  0.433735  0.0     166      68      0.398496         194         116   \n450  0.385542  1.0     155      55      0.285714         218          63   \n451  0.939759  1.0     160      70      0.180451         138          78   \n\n          qrs     T     P  ...   KY    KZ    LA   LB  LC   LD   LE    LF  \\\n0    0.457478  13.0  64.0  ...  0.0   9.0  -0.9  0.0   0  0.9  2.9  23.3   \n1    0.577713  37.0 -17.0  ...  0.0   8.5   0.0  0.0   0  0.2  2.1  20.4   \n2    0.785924  34.0  70.0  ...  0.0   9.5  -2.4  0.0   0  0.3  3.4  12.3   \n3    0.586510  11.0  -5.0  ...  0.0  12.2  -2.2  0.0   0  0.4  2.6  34.6   \n4    0.457478  13.0  61.0  ...  0.0  13.1  -3.6  0.0   0 -0.1  3.9  25.4   \n..        ...   ...   ...  ...  ...   ...   ...  ...  ..  ...  ...   ...   \n447  0.395894   4.0  40.0  ...  0.0   4.3  -5.0  0.0   0  0.7  0.6  -4.4   \n448  0.756598  66.0  52.0  ...  0.0  15.6  -1.6  0.0   0  0.4  2.4  38.0   \n449  0.255132 -19.0 -61.0  ...  0.0  16.3 -28.6  0.0   0  1.5  1.0 -44.2   \n450  0.662757  29.0 -22.0  ... -0.4  12.0  -0.7  0.0   0  0.5  2.4  25.0   \n451  0.586510  79.0  52.0  ...  0.0  10.4  -1.8  0.0   0  0.5  1.6  21.3   \n\n       LG  diagnosis  \n0    49.4          8  \n1    38.8          6  \n2    49.0         10  \n3    61.6          1  \n4    62.8          7  \n..    ...        ...  \n447  -0.5          1  \n448  62.4         10  \n449 -33.2          2  \n450  46.6          1  \n451  32.8          1  \n\n[452 rows x 277 columns]",
      "text/html": "<div>\n<style scoped>\n    .dataframe tbody tr th:only-of-type {\n        vertical-align: middle;\n    }\n\n    .dataframe tbody tr th {\n        vertical-align: top;\n    }\n\n    .dataframe thead th {\n        text-align: right;\n    }\n</style>\n<table border=\"1\" class=\"dataframe\">\n  <thead>\n    <tr style=\"text-align: right;\">\n      <th></th>\n      <th>age</th>\n      <th>sex</th>\n      <th>height</th>\n      <th>weight</th>\n      <th>qrs_duration</th>\n      <th>t_interval</th>\n      <th>p_interval</th>\n      <th>qrs</th>\n      <th>T</th>\n      <th>P</th>\n      <th>...</th>\n      <th>KY</th>\n      <th>KZ</th>\n      <th>LA</th>\n      <th>LB</th>\n      <th>LC</th>\n      <th>LD</th>\n      <th>LE</th>\n      <th>LF</th>\n      <th>LG</th>\n      <th>diagnosis</th>\n    </tr>\n  </thead>\n  <tbody>\n    <tr>\n      <th>0</th>\n      <td>0.903614</td>\n      <td>0.0</td>\n      <td>190</td>\n      <td>80</td>\n      <td>0.270677</td>\n      <td>174</td>\n      <td>121</td>\n      <td>0.457478</td>\n      <td>13.0</td>\n      <td>64.0</td>\n      <td>...</td>\n      <td>0.0</td>\n      <td>9.0</td>\n      <td>-0.9</td>\n      <td>0.0</td>\n      <td>0</td>\n      <td>0.9</td>\n      <td>2.9</td>\n      <td>23.3</td>\n      <td>49.4</td>\n      <td>8</td>\n    </tr>\n    <tr>\n      <th>1</th>\n      <td>0.674699</td>\n      <td>1.0</td>\n      <td>165</td>\n      <td>64</td>\n      <td>0.195489</td>\n      <td>149</td>\n      <td>39</td>\n      <td>0.577713</td>\n      <td>37.0</td>\n      <td>-17.0</td>\n      <td>...</td>\n      <td>0.0</td>\n      <td>8.5</td>\n      <td>0.0</td>\n      <td>0.0</td>\n      <td>0</td>\n      <td>0.2</td>\n      <td>2.1</td>\n      <td>20.4</td>\n      <td>38.8</td>\n      <td>6</td>\n    </tr>\n    <tr>\n      <th>2</th>\n      <td>0.650602</td>\n      <td>0.0</td>\n      <td>172</td>\n      <td>95</td>\n      <td>0.624060</td>\n      <td>185</td>\n      <td>102</td>\n      <td>0.785924</td>\n      <td>34.0</td>\n      <td>70.0</td>\n      <td>...</td>\n      <td>0.0</td>\n      <td>9.5</td>\n      <td>-2.4</td>\n      <td>0.0</td>\n      <td>0</td>\n      <td>0.3</td>\n      <td>3.4</td>\n      <td>12.3</td>\n      <td>49.0</td>\n      <td>10</td>\n    </tr>\n    <tr>\n      <th>3</th>\n      <td>0.662651</td>\n      <td>0.0</td>\n      <td>175</td>\n      <td>94</td>\n      <td>0.338346</td>\n      <td>179</td>\n      <td>143</td>\n      <td>0.586510</td>\n      <td>11.0</td>\n      <td>-5.0</td>\n      <td>...</td>\n      <td>0.0</td>\n      <td>12.2</td>\n      <td>-2.2</td>\n      <td>0.0</td>\n      <td>0</td>\n      <td>0.4</td>\n      <td>2.6</td>\n      <td>34.6</td>\n      <td>61.6</td>\n      <td>1</td>\n    </tr>\n    <tr>\n      <th>4</th>\n      <td>0.903614</td>\n      <td>0.0</td>\n      <td>190</td>\n      <td>80</td>\n      <td>0.248120</td>\n      <td>177</td>\n      <td>103</td>\n      <td>0.457478</td>\n      <td>13.0</td>\n      <td>61.0</td>\n      <td>...</td>\n      <td>0.0</td>\n      <td>13.1</td>\n      <td>-3.6</td>\n      <td>0.0</td>\n      <td>0</td>\n      <td>-0.1</td>\n      <td>3.9</td>\n      <td>25.4</td>\n      <td>62.8</td>\n      <td>7</td>\n    </tr>\n    <tr>\n      <th>...</th>\n      <td>...</td>\n      <td>...</td>\n      <td>...</td>\n      <td>...</td>\n      <td>...</td>\n      <td>...</td>\n      <td>...</td>\n      <td>...</td>\n      <td>...</td>\n      <td>...</td>\n      <td>...</td>\n      <td>...</td>\n      <td>...</td>\n      <td>...</td>\n      <td>...</td>\n      <td>...</td>\n      <td>...</td>\n      <td>...</td>\n      <td>...</td>\n      <td>...</td>\n      <td>...</td>\n    </tr>\n    <tr>\n      <th>447</th>\n      <td>0.638554</td>\n      <td>1.0</td>\n      <td>160</td>\n      <td>70</td>\n      <td>0.187970</td>\n      <td>154</td>\n      <td>117</td>\n      <td>0.395894</td>\n      <td>4.0</td>\n      <td>40.0</td>\n      <td>...</td>\n      <td>0.0</td>\n      <td>4.3</td>\n      <td>-5.0</td>\n      <td>0.0</td>\n      <td>0</td>\n      <td>0.7</td>\n      <td>0.6</td>\n      <td>-4.4</td>\n      <td>-0.5</td>\n      <td>1</td>\n    </tr>\n    <tr>\n      <th>448</th>\n      <td>0.445783</td>\n      <td>0.0</td>\n      <td>190</td>\n      <td>85</td>\n      <td>0.338346</td>\n      <td>201</td>\n      <td>73</td>\n      <td>0.756598</td>\n      <td>66.0</td>\n      <td>52.0</td>\n      <td>...</td>\n      <td>0.0</td>\n      <td>15.6</td>\n      <td>-1.6</td>\n      <td>0.0</td>\n      <td>0</td>\n      <td>0.4</td>\n      <td>2.4</td>\n      <td>38.0</td>\n      <td>62.4</td>\n      <td>10</td>\n    </tr>\n    <tr>\n      <th>449</th>\n      <td>0.433735</td>\n      <td>0.0</td>\n      <td>166</td>\n      <td>68</td>\n      <td>0.398496</td>\n      <td>194</td>\n      <td>116</td>\n      <td>0.255132</td>\n      <td>-19.0</td>\n      <td>-61.0</td>\n      <td>...</td>\n      <td>0.0</td>\n      <td>16.3</td>\n      <td>-28.6</td>\n      <td>0.0</td>\n      <td>0</td>\n      <td>1.5</td>\n      <td>1.0</td>\n      <td>-44.2</td>\n      <td>-33.2</td>\n      <td>2</td>\n    </tr>\n    <tr>\n      <th>450</th>\n      <td>0.385542</td>\n      <td>1.0</td>\n      <td>155</td>\n      <td>55</td>\n      <td>0.285714</td>\n      <td>218</td>\n      <td>63</td>\n      <td>0.662757</td>\n      <td>29.0</td>\n      <td>-22.0</td>\n      <td>...</td>\n      <td>-0.4</td>\n      <td>12.0</td>\n      <td>-0.7</td>\n      <td>0.0</td>\n      <td>0</td>\n      <td>0.5</td>\n      <td>2.4</td>\n      <td>25.0</td>\n      <td>46.6</td>\n      <td>1</td>\n    </tr>\n    <tr>\n      <th>451</th>\n      <td>0.939759</td>\n      <td>1.0</td>\n      <td>160</td>\n      <td>70</td>\n      <td>0.180451</td>\n      <td>138</td>\n      <td>78</td>\n      <td>0.586510</td>\n      <td>79.0</td>\n      <td>52.0</td>\n      <td>...</td>\n      <td>0.0</td>\n      <td>10.4</td>\n      <td>-1.8</td>\n      <td>0.0</td>\n      <td>0</td>\n      <td>0.5</td>\n      <td>1.6</td>\n      <td>21.3</td>\n      <td>32.8</td>\n      <td>1</td>\n    </tr>\n  </tbody>\n</table>\n<p>452 rows × 277 columns</p>\n</div>"
     },
     "execution_count": 209,
     "metadata": {},
     "output_type": "execute_result"
    }
   ],
   "source": [
    "all_data"
   ],
   "metadata": {
    "collapsed": false,
    "ExecuteTime": {
     "end_time": "2023-06-02T14:04:22.654492700Z",
     "start_time": "2023-06-02T14:04:22.630797200Z"
    }
   }
  },
  {
   "cell_type": "code",
   "execution_count": 210,
   "outputs": [
    {
     "data": {
      "text/plain": "          age  sex  height  weight  qrs_duration  t_interval  p_interval  \\\n0    0.903614  0.0     190      80      0.270677         174         121   \n1    0.674699  1.0     165      64      0.195489         149          39   \n2    0.650602  0.0     172      95      0.624060         185         102   \n3    0.662651  0.0     175      94      0.338346         179         143   \n4    0.903614  0.0     190      80      0.248120         177         103   \n..        ...  ...     ...     ...           ...         ...         ...   \n447  0.638554  1.0     160      70      0.187970         154         117   \n448  0.445783  0.0     190      85      0.338346         201          73   \n449  0.433735  0.0     166      68      0.398496         194         116   \n450  0.385542  1.0     155      55      0.285714         218          63   \n451  0.939759  1.0     160      70      0.180451         138          78   \n\n          qrs     T     P  ...   KY    KZ    LA   LB  LC   LD   LE    LF  \\\n0    0.457478  13.0  64.0  ...  0.0   9.0  -0.9  0.0   0  0.9  2.9  23.3   \n1    0.577713  37.0 -17.0  ...  0.0   8.5   0.0  0.0   0  0.2  2.1  20.4   \n2    0.785924  34.0  70.0  ...  0.0   9.5  -2.4  0.0   0  0.3  3.4  12.3   \n3    0.586510  11.0  -5.0  ...  0.0  12.2  -2.2  0.0   0  0.4  2.6  34.6   \n4    0.457478  13.0  61.0  ...  0.0  13.1  -3.6  0.0   0 -0.1  3.9  25.4   \n..        ...   ...   ...  ...  ...   ...   ...  ...  ..  ...  ...   ...   \n447  0.395894   4.0  40.0  ...  0.0   4.3  -5.0  0.0   0  0.7  0.6  -4.4   \n448  0.756598  66.0  52.0  ...  0.0  15.6  -1.6  0.0   0  0.4  2.4  38.0   \n449  0.255132 -19.0 -61.0  ...  0.0  16.3 -28.6  0.0   0  1.5  1.0 -44.2   \n450  0.662757  29.0 -22.0  ... -0.4  12.0  -0.7  0.0   0  0.5  2.4  25.0   \n451  0.586510  79.0  52.0  ...  0.0  10.4  -1.8  0.0   0  0.5  1.6  21.3   \n\n       LG  diagnosis  \n0    49.4          8  \n1    38.8          6  \n2    49.0         10  \n3    61.6          1  \n4    62.8          7  \n..    ...        ...  \n447  -0.5          1  \n448  62.4         10  \n449 -33.2          2  \n450  46.6          1  \n451  32.8          1  \n\n[452 rows x 277 columns]",
      "text/html": "<div>\n<style scoped>\n    .dataframe tbody tr th:only-of-type {\n        vertical-align: middle;\n    }\n\n    .dataframe tbody tr th {\n        vertical-align: top;\n    }\n\n    .dataframe thead th {\n        text-align: right;\n    }\n</style>\n<table border=\"1\" class=\"dataframe\">\n  <thead>\n    <tr style=\"text-align: right;\">\n      <th></th>\n      <th>age</th>\n      <th>sex</th>\n      <th>height</th>\n      <th>weight</th>\n      <th>qrs_duration</th>\n      <th>t_interval</th>\n      <th>p_interval</th>\n      <th>qrs</th>\n      <th>T</th>\n      <th>P</th>\n      <th>...</th>\n      <th>KY</th>\n      <th>KZ</th>\n      <th>LA</th>\n      <th>LB</th>\n      <th>LC</th>\n      <th>LD</th>\n      <th>LE</th>\n      <th>LF</th>\n      <th>LG</th>\n      <th>diagnosis</th>\n    </tr>\n  </thead>\n  <tbody>\n    <tr>\n      <th>0</th>\n      <td>0.903614</td>\n      <td>0.0</td>\n      <td>190</td>\n      <td>80</td>\n      <td>0.270677</td>\n      <td>174</td>\n      <td>121</td>\n      <td>0.457478</td>\n      <td>13.0</td>\n      <td>64.0</td>\n      <td>...</td>\n      <td>0.0</td>\n      <td>9.0</td>\n      <td>-0.9</td>\n      <td>0.0</td>\n      <td>0</td>\n      <td>0.9</td>\n      <td>2.9</td>\n      <td>23.3</td>\n      <td>49.4</td>\n      <td>8</td>\n    </tr>\n    <tr>\n      <th>1</th>\n      <td>0.674699</td>\n      <td>1.0</td>\n      <td>165</td>\n      <td>64</td>\n      <td>0.195489</td>\n      <td>149</td>\n      <td>39</td>\n      <td>0.577713</td>\n      <td>37.0</td>\n      <td>-17.0</td>\n      <td>...</td>\n      <td>0.0</td>\n      <td>8.5</td>\n      <td>0.0</td>\n      <td>0.0</td>\n      <td>0</td>\n      <td>0.2</td>\n      <td>2.1</td>\n      <td>20.4</td>\n      <td>38.8</td>\n      <td>6</td>\n    </tr>\n    <tr>\n      <th>2</th>\n      <td>0.650602</td>\n      <td>0.0</td>\n      <td>172</td>\n      <td>95</td>\n      <td>0.624060</td>\n      <td>185</td>\n      <td>102</td>\n      <td>0.785924</td>\n      <td>34.0</td>\n      <td>70.0</td>\n      <td>...</td>\n      <td>0.0</td>\n      <td>9.5</td>\n      <td>-2.4</td>\n      <td>0.0</td>\n      <td>0</td>\n      <td>0.3</td>\n      <td>3.4</td>\n      <td>12.3</td>\n      <td>49.0</td>\n      <td>10</td>\n    </tr>\n    <tr>\n      <th>3</th>\n      <td>0.662651</td>\n      <td>0.0</td>\n      <td>175</td>\n      <td>94</td>\n      <td>0.338346</td>\n      <td>179</td>\n      <td>143</td>\n      <td>0.586510</td>\n      <td>11.0</td>\n      <td>-5.0</td>\n      <td>...</td>\n      <td>0.0</td>\n      <td>12.2</td>\n      <td>-2.2</td>\n      <td>0.0</td>\n      <td>0</td>\n      <td>0.4</td>\n      <td>2.6</td>\n      <td>34.6</td>\n      <td>61.6</td>\n      <td>1</td>\n    </tr>\n    <tr>\n      <th>4</th>\n      <td>0.903614</td>\n      <td>0.0</td>\n      <td>190</td>\n      <td>80</td>\n      <td>0.248120</td>\n      <td>177</td>\n      <td>103</td>\n      <td>0.457478</td>\n      <td>13.0</td>\n      <td>61.0</td>\n      <td>...</td>\n      <td>0.0</td>\n      <td>13.1</td>\n      <td>-3.6</td>\n      <td>0.0</td>\n      <td>0</td>\n      <td>-0.1</td>\n      <td>3.9</td>\n      <td>25.4</td>\n      <td>62.8</td>\n      <td>7</td>\n    </tr>\n    <tr>\n      <th>...</th>\n      <td>...</td>\n      <td>...</td>\n      <td>...</td>\n      <td>...</td>\n      <td>...</td>\n      <td>...</td>\n      <td>...</td>\n      <td>...</td>\n      <td>...</td>\n      <td>...</td>\n      <td>...</td>\n      <td>...</td>\n      <td>...</td>\n      <td>...</td>\n      <td>...</td>\n      <td>...</td>\n      <td>...</td>\n      <td>...</td>\n      <td>...</td>\n      <td>...</td>\n      <td>...</td>\n    </tr>\n    <tr>\n      <th>447</th>\n      <td>0.638554</td>\n      <td>1.0</td>\n      <td>160</td>\n      <td>70</td>\n      <td>0.187970</td>\n      <td>154</td>\n      <td>117</td>\n      <td>0.395894</td>\n      <td>4.0</td>\n      <td>40.0</td>\n      <td>...</td>\n      <td>0.0</td>\n      <td>4.3</td>\n      <td>-5.0</td>\n      <td>0.0</td>\n      <td>0</td>\n      <td>0.7</td>\n      <td>0.6</td>\n      <td>-4.4</td>\n      <td>-0.5</td>\n      <td>1</td>\n    </tr>\n    <tr>\n      <th>448</th>\n      <td>0.445783</td>\n      <td>0.0</td>\n      <td>190</td>\n      <td>85</td>\n      <td>0.338346</td>\n      <td>201</td>\n      <td>73</td>\n      <td>0.756598</td>\n      <td>66.0</td>\n      <td>52.0</td>\n      <td>...</td>\n      <td>0.0</td>\n      <td>15.6</td>\n      <td>-1.6</td>\n      <td>0.0</td>\n      <td>0</td>\n      <td>0.4</td>\n      <td>2.4</td>\n      <td>38.0</td>\n      <td>62.4</td>\n      <td>10</td>\n    </tr>\n    <tr>\n      <th>449</th>\n      <td>0.433735</td>\n      <td>0.0</td>\n      <td>166</td>\n      <td>68</td>\n      <td>0.398496</td>\n      <td>194</td>\n      <td>116</td>\n      <td>0.255132</td>\n      <td>-19.0</td>\n      <td>-61.0</td>\n      <td>...</td>\n      <td>0.0</td>\n      <td>16.3</td>\n      <td>-28.6</td>\n      <td>0.0</td>\n      <td>0</td>\n      <td>1.5</td>\n      <td>1.0</td>\n      <td>-44.2</td>\n      <td>-33.2</td>\n      <td>2</td>\n    </tr>\n    <tr>\n      <th>450</th>\n      <td>0.385542</td>\n      <td>1.0</td>\n      <td>155</td>\n      <td>55</td>\n      <td>0.285714</td>\n      <td>218</td>\n      <td>63</td>\n      <td>0.662757</td>\n      <td>29.0</td>\n      <td>-22.0</td>\n      <td>...</td>\n      <td>-0.4</td>\n      <td>12.0</td>\n      <td>-0.7</td>\n      <td>0.0</td>\n      <td>0</td>\n      <td>0.5</td>\n      <td>2.4</td>\n      <td>25.0</td>\n      <td>46.6</td>\n      <td>1</td>\n    </tr>\n    <tr>\n      <th>451</th>\n      <td>0.939759</td>\n      <td>1.0</td>\n      <td>160</td>\n      <td>70</td>\n      <td>0.180451</td>\n      <td>138</td>\n      <td>78</td>\n      <td>0.586510</td>\n      <td>79.0</td>\n      <td>52.0</td>\n      <td>...</td>\n      <td>0.0</td>\n      <td>10.4</td>\n      <td>-1.8</td>\n      <td>0.0</td>\n      <td>0</td>\n      <td>0.5</td>\n      <td>1.6</td>\n      <td>21.3</td>\n      <td>32.8</td>\n      <td>1</td>\n    </tr>\n  </tbody>\n</table>\n<p>452 rows × 277 columns</p>\n</div>"
     },
     "execution_count": 210,
     "metadata": {},
     "output_type": "execute_result"
    }
   ],
   "source": [
    "norm_train"
   ],
   "metadata": {
    "collapsed": false,
    "ExecuteTime": {
     "end_time": "2023-06-02T14:04:24.538452700Z",
     "start_time": "2023-06-02T14:04:24.520361Z"
    }
   }
  },
  {
   "cell_type": "markdown",
   "source": [
    "### Standardization"
   ],
   "metadata": {
    "collapsed": false
   }
  },
  {
   "cell_type": "code",
   "execution_count": 202,
   "outputs": [],
   "source": [
    "# def standardization(all_data, column_target):\n",
    "#     for column in column_target:\n",
    "#         column_values = all_data[column].values\n",
    "#         mask = ~np.isnan(column_values)  # Mask for non-missing values\n",
    "#         mean = np.mean(column_values[mask])\n",
    "#         std = np.std(column_values[mask])\n",
    "#         all_data[column] = np.where(mask, (column_values - mean) / std, column_values)\n",
    "#\n",
    "#     return all_data"
   ],
   "metadata": {
    "collapsed": false,
    "ExecuteTime": {
     "end_time": "2023-06-02T14:03:54.938861200Z",
     "start_time": "2023-06-02T14:03:54.931840900Z"
    }
   }
  },
  {
   "cell_type": "code",
   "execution_count": 203,
   "outputs": [
    {
     "data": {
      "text/plain": "          age       sex  height  weight  qrs_duration  t_interval  p_interval  \\\n0    1.734439 -1.107520     190      80            91         174         121   \n1    0.579312  0.902918     165      64            81         149          39   \n2    0.457720 -1.107520     172      95           138         185         102   \n3    0.518516 -1.107520     175      94           100         179         143   \n4    1.734439 -1.107520     190      80            88         177         103   \n..        ...       ...     ...     ...           ...         ...         ...   \n447  0.396924  0.902918     160      70            80         154         117   \n448 -0.575815 -1.107520     190      85           100         201          73   \n449 -0.636611 -1.107520     166      68           108         194         116   \n450 -0.879796  0.902918     155      55            93         218          63   \n451  1.916828  0.902918     160      70            79         138          78   \n\n     qrs     T     P  ...   KY    KZ    LA   LB  LC   LD   LE    LF    LG  \\\n0    -16  13.0  64.0  ...  0.0   9.0  -0.9  0.0   0  0.9  2.9  23.3  49.4   \n1     25  37.0 -17.0  ...  0.0   8.5   0.0  0.0   0  0.2  2.1  20.4  38.8   \n2     96  34.0  70.0  ...  0.0   9.5  -2.4  0.0   0  0.3  3.4  12.3  49.0   \n3     28  11.0  -5.0  ...  0.0  12.2  -2.2  0.0   0  0.4  2.6  34.6  61.6   \n4    -16  13.0  61.0  ...  0.0  13.1  -3.6  0.0   0 -0.1  3.9  25.4  62.8   \n..   ...   ...   ...  ...  ...   ...   ...  ...  ..  ...  ...   ...   ...   \n447  -37   4.0  40.0  ...  0.0   4.3  -5.0  0.0   0  0.7  0.6  -4.4  -0.5   \n448   86  66.0  52.0  ...  0.0  15.6  -1.6  0.0   0  0.4  2.4  38.0  62.4   \n449  -85 -19.0 -61.0  ...  0.0  16.3 -28.6  0.0   0  1.5  1.0 -44.2 -33.2   \n450   54  29.0 -22.0  ... -0.4  12.0  -0.7  0.0   0  0.5  2.4  25.0  46.6   \n451   28  79.0  52.0  ...  0.0  10.4  -1.8  0.0   0  0.5  1.6  21.3  32.8   \n\n     diagnosis  \n0            8  \n1            6  \n2           10  \n3            1  \n4            7  \n..         ...  \n447          1  \n448         10  \n449          2  \n450          1  \n451          1  \n\n[452 rows x 277 columns]",
      "text/html": "<div>\n<style scoped>\n    .dataframe tbody tr th:only-of-type {\n        vertical-align: middle;\n    }\n\n    .dataframe tbody tr th {\n        vertical-align: top;\n    }\n\n    .dataframe thead th {\n        text-align: right;\n    }\n</style>\n<table border=\"1\" class=\"dataframe\">\n  <thead>\n    <tr style=\"text-align: right;\">\n      <th></th>\n      <th>age</th>\n      <th>sex</th>\n      <th>height</th>\n      <th>weight</th>\n      <th>qrs_duration</th>\n      <th>t_interval</th>\n      <th>p_interval</th>\n      <th>qrs</th>\n      <th>T</th>\n      <th>P</th>\n      <th>...</th>\n      <th>KY</th>\n      <th>KZ</th>\n      <th>LA</th>\n      <th>LB</th>\n      <th>LC</th>\n      <th>LD</th>\n      <th>LE</th>\n      <th>LF</th>\n      <th>LG</th>\n      <th>diagnosis</th>\n    </tr>\n  </thead>\n  <tbody>\n    <tr>\n      <th>0</th>\n      <td>1.734439</td>\n      <td>-1.107520</td>\n      <td>190</td>\n      <td>80</td>\n      <td>91</td>\n      <td>174</td>\n      <td>121</td>\n      <td>-16</td>\n      <td>13.0</td>\n      <td>64.0</td>\n      <td>...</td>\n      <td>0.0</td>\n      <td>9.0</td>\n      <td>-0.9</td>\n      <td>0.0</td>\n      <td>0</td>\n      <td>0.9</td>\n      <td>2.9</td>\n      <td>23.3</td>\n      <td>49.4</td>\n      <td>8</td>\n    </tr>\n    <tr>\n      <th>1</th>\n      <td>0.579312</td>\n      <td>0.902918</td>\n      <td>165</td>\n      <td>64</td>\n      <td>81</td>\n      <td>149</td>\n      <td>39</td>\n      <td>25</td>\n      <td>37.0</td>\n      <td>-17.0</td>\n      <td>...</td>\n      <td>0.0</td>\n      <td>8.5</td>\n      <td>0.0</td>\n      <td>0.0</td>\n      <td>0</td>\n      <td>0.2</td>\n      <td>2.1</td>\n      <td>20.4</td>\n      <td>38.8</td>\n      <td>6</td>\n    </tr>\n    <tr>\n      <th>2</th>\n      <td>0.457720</td>\n      <td>-1.107520</td>\n      <td>172</td>\n      <td>95</td>\n      <td>138</td>\n      <td>185</td>\n      <td>102</td>\n      <td>96</td>\n      <td>34.0</td>\n      <td>70.0</td>\n      <td>...</td>\n      <td>0.0</td>\n      <td>9.5</td>\n      <td>-2.4</td>\n      <td>0.0</td>\n      <td>0</td>\n      <td>0.3</td>\n      <td>3.4</td>\n      <td>12.3</td>\n      <td>49.0</td>\n      <td>10</td>\n    </tr>\n    <tr>\n      <th>3</th>\n      <td>0.518516</td>\n      <td>-1.107520</td>\n      <td>175</td>\n      <td>94</td>\n      <td>100</td>\n      <td>179</td>\n      <td>143</td>\n      <td>28</td>\n      <td>11.0</td>\n      <td>-5.0</td>\n      <td>...</td>\n      <td>0.0</td>\n      <td>12.2</td>\n      <td>-2.2</td>\n      <td>0.0</td>\n      <td>0</td>\n      <td>0.4</td>\n      <td>2.6</td>\n      <td>34.6</td>\n      <td>61.6</td>\n      <td>1</td>\n    </tr>\n    <tr>\n      <th>4</th>\n      <td>1.734439</td>\n      <td>-1.107520</td>\n      <td>190</td>\n      <td>80</td>\n      <td>88</td>\n      <td>177</td>\n      <td>103</td>\n      <td>-16</td>\n      <td>13.0</td>\n      <td>61.0</td>\n      <td>...</td>\n      <td>0.0</td>\n      <td>13.1</td>\n      <td>-3.6</td>\n      <td>0.0</td>\n      <td>0</td>\n      <td>-0.1</td>\n      <td>3.9</td>\n      <td>25.4</td>\n      <td>62.8</td>\n      <td>7</td>\n    </tr>\n    <tr>\n      <th>...</th>\n      <td>...</td>\n      <td>...</td>\n      <td>...</td>\n      <td>...</td>\n      <td>...</td>\n      <td>...</td>\n      <td>...</td>\n      <td>...</td>\n      <td>...</td>\n      <td>...</td>\n      <td>...</td>\n      <td>...</td>\n      <td>...</td>\n      <td>...</td>\n      <td>...</td>\n      <td>...</td>\n      <td>...</td>\n      <td>...</td>\n      <td>...</td>\n      <td>...</td>\n      <td>...</td>\n    </tr>\n    <tr>\n      <th>447</th>\n      <td>0.396924</td>\n      <td>0.902918</td>\n      <td>160</td>\n      <td>70</td>\n      <td>80</td>\n      <td>154</td>\n      <td>117</td>\n      <td>-37</td>\n      <td>4.0</td>\n      <td>40.0</td>\n      <td>...</td>\n      <td>0.0</td>\n      <td>4.3</td>\n      <td>-5.0</td>\n      <td>0.0</td>\n      <td>0</td>\n      <td>0.7</td>\n      <td>0.6</td>\n      <td>-4.4</td>\n      <td>-0.5</td>\n      <td>1</td>\n    </tr>\n    <tr>\n      <th>448</th>\n      <td>-0.575815</td>\n      <td>-1.107520</td>\n      <td>190</td>\n      <td>85</td>\n      <td>100</td>\n      <td>201</td>\n      <td>73</td>\n      <td>86</td>\n      <td>66.0</td>\n      <td>52.0</td>\n      <td>...</td>\n      <td>0.0</td>\n      <td>15.6</td>\n      <td>-1.6</td>\n      <td>0.0</td>\n      <td>0</td>\n      <td>0.4</td>\n      <td>2.4</td>\n      <td>38.0</td>\n      <td>62.4</td>\n      <td>10</td>\n    </tr>\n    <tr>\n      <th>449</th>\n      <td>-0.636611</td>\n      <td>-1.107520</td>\n      <td>166</td>\n      <td>68</td>\n      <td>108</td>\n      <td>194</td>\n      <td>116</td>\n      <td>-85</td>\n      <td>-19.0</td>\n      <td>-61.0</td>\n      <td>...</td>\n      <td>0.0</td>\n      <td>16.3</td>\n      <td>-28.6</td>\n      <td>0.0</td>\n      <td>0</td>\n      <td>1.5</td>\n      <td>1.0</td>\n      <td>-44.2</td>\n      <td>-33.2</td>\n      <td>2</td>\n    </tr>\n    <tr>\n      <th>450</th>\n      <td>-0.879796</td>\n      <td>0.902918</td>\n      <td>155</td>\n      <td>55</td>\n      <td>93</td>\n      <td>218</td>\n      <td>63</td>\n      <td>54</td>\n      <td>29.0</td>\n      <td>-22.0</td>\n      <td>...</td>\n      <td>-0.4</td>\n      <td>12.0</td>\n      <td>-0.7</td>\n      <td>0.0</td>\n      <td>0</td>\n      <td>0.5</td>\n      <td>2.4</td>\n      <td>25.0</td>\n      <td>46.6</td>\n      <td>1</td>\n    </tr>\n    <tr>\n      <th>451</th>\n      <td>1.916828</td>\n      <td>0.902918</td>\n      <td>160</td>\n      <td>70</td>\n      <td>79</td>\n      <td>138</td>\n      <td>78</td>\n      <td>28</td>\n      <td>79.0</td>\n      <td>52.0</td>\n      <td>...</td>\n      <td>0.0</td>\n      <td>10.4</td>\n      <td>-1.8</td>\n      <td>0.0</td>\n      <td>0</td>\n      <td>0.5</td>\n      <td>1.6</td>\n      <td>21.3</td>\n      <td>32.8</td>\n      <td>1</td>\n    </tr>\n  </tbody>\n</table>\n<p>452 rows × 277 columns</p>\n</div>"
     },
     "execution_count": 203,
     "metadata": {},
     "output_type": "execute_result"
    }
   ],
   "source": [
    "# standardization(data_train, column_target=['age', 'sex'])"
   ],
   "metadata": {
    "collapsed": false,
    "ExecuteTime": {
     "end_time": "2023-06-02T14:03:56.410780400Z",
     "start_time": "2023-06-02T14:03:56.388608800Z"
    }
   }
  }
 ],
 "metadata": {
  "kernelspec": {
   "display_name": "Python 3",
   "language": "python",
   "name": "python3"
  },
  "language_info": {
   "codemirror_mode": {
    "name": "ipython",
    "version": 2
   },
   "file_extension": ".py",
   "mimetype": "text/x-python",
   "name": "python",
   "nbconvert_exporter": "python",
   "pygments_lexer": "ipython2",
   "version": "2.7.6"
  }
 },
 "nbformat": 4,
 "nbformat_minor": 0
}
